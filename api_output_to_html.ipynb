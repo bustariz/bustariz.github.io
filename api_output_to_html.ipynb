{
 "cells": [
  {
   "cell_type": "code",
   "execution_count": 2,
   "metadata": {},
   "outputs": [],
   "source": [
    "import pandas as pd\n",
    "import os"
   ]
  },
  {
   "cell_type": "code",
   "execution_count": 3,
   "metadata": {},
   "outputs": [],
   "source": [
    "path = 'WebVisualizations/assets/api_output.csv'"
   ]
  },
  {
   "cell_type": "code",
   "execution_count": 4,
   "metadata": {},
   "outputs": [],
   "source": [
    "df = pd.read_csv(path)"
   ]
  },
  {
   "cell_type": "code",
   "execution_count": 6,
   "metadata": {},
   "outputs": [
    {
     "data": {
      "text/html": [
       "<div>\n",
       "<style scoped>\n",
       "    .dataframe tbody tr th:only-of-type {\n",
       "        vertical-align: middle;\n",
       "    }\n",
       "\n",
       "    .dataframe tbody tr th {\n",
       "        vertical-align: top;\n",
       "    }\n",
       "\n",
       "    .dataframe thead th {\n",
       "        text-align: right;\n",
       "    }\n",
       "</style>\n",
       "<table border=\"1\" class=\"dataframe\">\n",
       "  <thead>\n",
       "    <tr style=\"text-align: right;\">\n",
       "      <th></th>\n",
       "      <th>Unnamed: 0</th>\n",
       "      <th>character_id</th>\n",
       "      <th>character_name</th>\n",
       "      <th>num_of_comics</th>\n",
       "      <th>num_of_series</th>\n",
       "      <th>num_of_stories</th>\n",
       "      <th>num_of_events</th>\n",
       "    </tr>\n",
       "  </thead>\n",
       "  <tbody>\n",
       "    <tr>\n",
       "      <td>0</td>\n",
       "      <td>1185</td>\n",
       "      <td>1009610</td>\n",
       "      <td>Spider-Man</td>\n",
       "      <td>3918</td>\n",
       "      <td>989</td>\n",
       "      <td>5898</td>\n",
       "      <td>38</td>\n",
       "    </tr>\n",
       "    <tr>\n",
       "      <td>1</td>\n",
       "      <td>1472</td>\n",
       "      <td>1009726</td>\n",
       "      <td>X-Men</td>\n",
       "      <td>3432</td>\n",
       "      <td>828</td>\n",
       "      <td>5092</td>\n",
       "      <td>42</td>\n",
       "    </tr>\n",
       "    <tr>\n",
       "      <td>2</td>\n",
       "      <td>573</td>\n",
       "      <td>1009368</td>\n",
       "      <td>Iron Man</td>\n",
       "      <td>2561</td>\n",
       "      <td>626</td>\n",
       "      <td>3880</td>\n",
       "      <td>31</td>\n",
       "    </tr>\n",
       "    <tr>\n",
       "      <td>3</td>\n",
       "      <td>1453</td>\n",
       "      <td>1009718</td>\n",
       "      <td>Wolverine</td>\n",
       "      <td>2470</td>\n",
       "      <td>663</td>\n",
       "      <td>3457</td>\n",
       "      <td>42</td>\n",
       "    </tr>\n",
       "    <tr>\n",
       "      <td>4</td>\n",
       "      <td>185</td>\n",
       "      <td>1009220</td>\n",
       "      <td>Captain America</td>\n",
       "      <td>2362</td>\n",
       "      <td>651</td>\n",
       "      <td>3503</td>\n",
       "      <td>31</td>\n",
       "    </tr>\n",
       "    <tr>\n",
       "      <td>...</td>\n",
       "      <td>...</td>\n",
       "      <td>...</td>\n",
       "      <td>...</td>\n",
       "      <td>...</td>\n",
       "      <td>...</td>\n",
       "      <td>...</td>\n",
       "      <td>...</td>\n",
       "    </tr>\n",
       "    <tr>\n",
       "      <td>655</td>\n",
       "      <td>706</td>\n",
       "      <td>1011145</td>\n",
       "      <td>Lord Hawal</td>\n",
       "      <td>1</td>\n",
       "      <td>1</td>\n",
       "      <td>1</td>\n",
       "      <td>1</td>\n",
       "    </tr>\n",
       "    <tr>\n",
       "      <td>656</td>\n",
       "      <td>1372</td>\n",
       "      <td>1010987</td>\n",
       "      <td>Unus (Age of Apocalypse)</td>\n",
       "      <td>1</td>\n",
       "      <td>1</td>\n",
       "      <td>1</td>\n",
       "      <td>1</td>\n",
       "    </tr>\n",
       "    <tr>\n",
       "      <td>657</td>\n",
       "      <td>1068</td>\n",
       "      <td>1010970</td>\n",
       "      <td>Sabretooth (House of M)</td>\n",
       "      <td>1</td>\n",
       "      <td>1</td>\n",
       "      <td>1</td>\n",
       "      <td>1</td>\n",
       "    </tr>\n",
       "    <tr>\n",
       "      <td>658</td>\n",
       "      <td>1073</td>\n",
       "      <td>1011156</td>\n",
       "      <td>Salo</td>\n",
       "      <td>1</td>\n",
       "      <td>1</td>\n",
       "      <td>1</td>\n",
       "      <td>1</td>\n",
       "    </tr>\n",
       "    <tr>\n",
       "      <td>659</td>\n",
       "      <td>67</td>\n",
       "      <td>1010827</td>\n",
       "      <td>Armory</td>\n",
       "      <td>1</td>\n",
       "      <td>1</td>\n",
       "      <td>2</td>\n",
       "      <td>1</td>\n",
       "    </tr>\n",
       "  </tbody>\n",
       "</table>\n",
       "<p>660 rows × 7 columns</p>\n",
       "</div>"
      ],
      "text/plain": [
       "     Unnamed: 0  character_id            character_name  num_of_comics  \\\n",
       "0          1185       1009610                Spider-Man           3918   \n",
       "1          1472       1009726                     X-Men           3432   \n",
       "2           573       1009368                  Iron Man           2561   \n",
       "3          1453       1009718                 Wolverine           2470   \n",
       "4           185       1009220           Captain America           2362   \n",
       "..          ...           ...                       ...            ...   \n",
       "655         706       1011145                Lord Hawal              1   \n",
       "656        1372       1010987  Unus (Age of Apocalypse)              1   \n",
       "657        1068       1010970   Sabretooth (House of M)              1   \n",
       "658        1073       1011156                      Salo              1   \n",
       "659          67       1010827                    Armory              1   \n",
       "\n",
       "     num_of_series  num_of_stories  num_of_events  \n",
       "0              989            5898             38  \n",
       "1              828            5092             42  \n",
       "2              626            3880             31  \n",
       "3              663            3457             42  \n",
       "4              651            3503             31  \n",
       "..             ...             ...            ...  \n",
       "655              1               1              1  \n",
       "656              1               1              1  \n",
       "657              1               1              1  \n",
       "658              1               1              1  \n",
       "659              1               2              1  \n",
       "\n",
       "[660 rows x 7 columns]"
      ]
     },
     "execution_count": 6,
     "metadata": {},
     "output_type": "execute_result"
    }
   ],
   "source": [
    "df"
   ]
  },
  {
   "cell_type": "code",
   "execution_count": 8,
   "metadata": {},
   "outputs": [],
   "source": [
    "df.to_html('marvel_api_df.html')"
   ]
  },
  {
   "cell_type": "code",
   "execution_count": null,
   "metadata": {},
   "outputs": [],
   "source": []
  }
 ],
 "metadata": {
  "kernelspec": {
   "display_name": "Python 3",
   "language": "python",
   "name": "python3"
  },
  "language_info": {
   "codemirror_mode": {
    "name": "ipython",
    "version": 3
   },
   "file_extension": ".py",
   "mimetype": "text/x-python",
   "name": "python",
   "nbconvert_exporter": "python",
   "pygments_lexer": "ipython3",
   "version": "3.7.4"
  },
  "varInspector": {
   "cols": {
    "lenName": 16,
    "lenType": 16,
    "lenVar": 40
   },
   "kernels_config": {
    "python": {
     "delete_cmd_postfix": "",
     "delete_cmd_prefix": "del ",
     "library": "var_list.py",
     "varRefreshCmd": "print(var_dic_list())"
    },
    "r": {
     "delete_cmd_postfix": ") ",
     "delete_cmd_prefix": "rm(",
     "library": "var_list.r",
     "varRefreshCmd": "cat(var_dic_list()) "
    }
   },
   "types_to_exclude": [
    "module",
    "function",
    "builtin_function_or_method",
    "instance",
    "_Feature"
   ],
   "window_display": false
  }
 },
 "nbformat": 4,
 "nbformat_minor": 2
}
